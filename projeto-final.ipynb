{
 "cells": [
  {
   "cell_type": "code",
   "execution_count": null,
   "metadata": {},
   "outputs": [],
   "source": [
    "import pandas as pd\n",
    "import numpy as np\n",
    "import matplotlib.pyplot as plt\n",
    "import seaborn as sns\n",
    "plt.style.use('ggplot')\n",
    "sns.set_style('whitegrid')\n",
    "\n",
    "from transformers import pipeline\n",
    "from wordcloud import WordCloud\n",
    "from tqdm.notebook import tqdm"
   ]
  },
  {
   "attachments": {},
   "cell_type": "markdown",
   "metadata": {},
   "source": [
    "<h3>Detecção de encoding</h3>\n",
    "Leitura deste dataset retornou erro sem definição do encoding.\n",
    "<pre><code>\n",
    "import chardet\n",
    "with open('DisneylandReviews.csv', 'rb') as rawdata:\n",
    "    result = chardet.detect(rawdata.read())\n",
    "result\n",
    "</code></pre>\n",
    "Esta detecção levou vários minutos, mas foi necessária porque caracteres encontrados em seções avançadas do documento indicaram encoding 'latin-1' ou 'ISO-8859-1'.<br>\n",
    "Fonte do dataset indicou, no entanto, o uso de encoding 'cp1252'."
   ]
  },
  {
   "cell_type": "code",
   "execution_count": null,
   "metadata": {},
   "outputs": [],
   "source": [
    "df = pd.read_csv('DisneylandReviews.csv', encoding='cp1252')\n",
    "df.set_index('Review_ID', inplace=True)\n",
    "df.head()"
   ]
  },
  {
   "cell_type": "code",
   "execution_count": null,
   "metadata": {},
   "outputs": [],
   "source": [
    "df.drop_duplicates(subset='Review_Text', inplace=True, keep='first')"
   ]
  },
  {
   "cell_type": "code",
   "execution_count": null,
   "metadata": {},
   "outputs": [],
   "source": [
    "analise_sentimento = pipeline('sentiment-analysis')"
   ]
  },
  {
   "cell_type": "code",
   "execution_count": null,
   "metadata": {},
   "outputs": [],
   "source": []
  }
 ],
 "metadata": {
  "kernelspec": {
   "display_name": "Python 3.7.13 ('base')",
   "language": "python",
   "name": "python3"
  },
  "language_info": {
   "codemirror_mode": {
    "name": "ipython",
    "version": 3
   },
   "file_extension": ".py",
   "mimetype": "text/x-python",
   "name": "python",
   "nbconvert_exporter": "python",
   "pygments_lexer": "ipython3",
   "version": "3.7.13"
  },
  "orig_nbformat": 4,
  "vscode": {
   "interpreter": {
    "hash": "6fc91d41b786585812c82e68ecc82c1d85295c5bfe5f395a721e141c29967732"
   }
  }
 },
 "nbformat": 4,
 "nbformat_minor": 2
}
